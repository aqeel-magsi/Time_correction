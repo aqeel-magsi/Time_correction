{
 "cells": [
  {
   "cell_type": "code",
   "execution_count": 1,
   "id": "c6a5979c",
   "metadata": {},
   "outputs": [],
   "source": [
    "import os\n",
    "# ^^^ pyforest auto-imports - don't write above this line\n",
    "#this code will helps us to plot the time difference between predicted and picked arrivals time. input files are from\n",
    "#bash script with name \"get picks for each station.sh\"\n",
    "import matplotlib.dates as dates\n",
    "import pandas as pd\n",
    "import numpy as np\n",
    "import matplotlib.pyplot as plt \n",
    "import scipy.stats\n",
    "import matplotlib.pyplot as pls\n",
    "from matplotlib.pyplot import figure\n",
    "import matplotlib.pyplot as plt\n",
    "import matplotlib.pylab as plt\n",
    "from matplotlib.dates import MonthLocator, DateFormatter\n",
    "from matplotlib.dates import DateFormatter, WeekdayLocator, MonthLocator, DayLocator, MONDAY\n",
    "import matplotlib.dates as mdates"
   ]
  },
  {
   "cell_type": "code",
   "execution_count": 2,
   "id": "c7ac766a",
   "metadata": {},
   "outputs": [
    {
     "name": "stdout",
     "output_type": "stream",
     "text": [
      "2020041808253_M6.6.csv\n",
      "2020053018134_M5.6.csv\n",
      "2020061004292_M5.9.csv\n",
      "2020052023431_M5.7.csv\n",
      "2020050311542_M5.9.csv\n",
      "2020050711211_M6.1.csv\n",
      "2020060315540_M5.7.csv\n",
      "2020041716304_M5.8.csv\n",
      "2020051603154_M5.9.csv\n",
      "2020042502530_M6.2.csv\n",
      "2020051023583_M5.8.csv\n",
      "2020060720063_M5.9.csv\n",
      "2020052323022_M5.6.csv\n",
      "2020051823223_M5.8.csv\n",
      "2020050413074_M5.6.csv\n",
      "2020052707091_M6.1.csv\n",
      "2020061321083_M6.2.csv\n",
      "2020041920390_M6.3.csv\n",
      "2020060904561_M5.6.csv\n",
      "2020050212510_M6.6.csv\n",
      "2020041809241_M5.7.csv\n",
      "2020050820453_M5.5.csv\n",
      "2020060917181_M5.7.csv\n",
      "2020053013062_M5.5.csv\n",
      "2020050613535_M6.8.csv\n",
      "2020061315512_M6.6.csv\n",
      "2020051222411_M6.6.csv\n",
      "2020060714432_M5.7.csv\n",
      "2020060916085_M5.5.csv\n",
      "2020060408493_M6.4.csv\n",
      "2020060714365_M5.7.csv\n"
     ]
    }
   ],
   "source": [
    "tele_files=[]\n",
    "files=os.listdir(os.getcwd())\n",
    "for file in files:\n",
    "    if file.endswith(\"csv\"):\n",
    "        print(file)\n",
    "        tele_files.append(file)"
   ]
  },
  {
   "cell_type": "code",
   "execution_count": 3,
   "id": "f380c24f",
   "metadata": {},
   "outputs": [],
   "source": [
    "def legend_without_duplicate_labels(ax):\n",
    "    handles, labels = ax.get_legend_handles_labels()\n",
    "    unique = [(h, l) for i, (h, l) in enumerate(zip(handles, labels)) if l not in labels[:i]]\n",
    "    ax.legend(*zip(*unique))\n"
   ]
  },
  {
   "cell_type": "code",
   "execution_count": 17,
   "id": "9be4ad72",
   "metadata": {},
   "outputs": [
    {
     "data": {
      "image/png": "[encoded data removed]",
      "text/plain": [
       "<Figure size 900x468 with 1 Axes>"
      ]
     },
     "metadata": {
      "needs_background": "light"
     },
     "output_type": "display_data"
    }
   ],
   "source": [
    "import matplotlib.pyplot as plt\n",
    "import matplotlib\n",
    "from matplotlib.lines import Line2D\n",
    "\n",
    "from datetime import datetime\n",
    "matplotlib.rcParams.update({'font.size': 16})\n",
    "\n",
    "fig =plt.figure(figsize=(12.5,6.5))\n",
    "ax1=fig.add_subplot(1,1,1)\n",
    "\n",
    "plt.ylim(-3,3)\n",
    "for file in tele_files:\n",
    "    date=f\"{file[0:4]}/{file[4:6]}/{file[6:8]} {file[8:10]}:{file[10:12]}:{file[12:13]}0\"\n",
    "    date=datetime.strptime(date,\"%Y/%m/%d %H:%M:%S\")\n",
    "    f = open(file, \"r\")\n",
    "    for x in f:\n",
    "        no,lag,_sta=x.split()\n",
    "        if float(lag) > 0.3  or float(lag) < -0.3:\n",
    "\n",
    "            ax1.scatter(date,float(lag[0:7]),color='red',label=\"Clock Drift\")\n",
    "        elif  0.3 > float(lag) > -0.3:\n",
    "            ax1.scatter(date,float(lag[0:7]),color='black',label=\"Normal\")\n",
    "\n",
    "ax1.axhline(y=0,color='red',linestyle='-', linewidth = 2.0)\n",
    "\n",
    "date_form = DateFormatter(\"%d\")\n",
    "loc = mdates.WeekdayLocator(interval=2)\n",
    "ax1.xaxis.set_minor_locator(dates.MonthLocator())\n",
    "fmt = mdates.DateFormatter('%d\\n%b')\n",
    "ax1.xaxis.set_major_formatter(fmt)\n",
    "ax1.set_ylabel('Lag Time (s)')\n",
    "\n",
    "ax1.annotate(\" Teleseismic events\", xy=(0.01, 0.05), xycoords=\"axes fraction\",fontsize = 18.0, backgroundcolor='white',alpha=1)\n",
    "\n",
    "#legend_without_duplicate_labels(ax1)\n",
    "\n",
    "colors = ['red', 'black']\n",
    "#custom = [Line2D([], [], marker='.', markersize=20, color='b', linestyle='None'),\n",
    "    #      Line2D([], [], marker='.', markersize=20, color='r', linestyle='None')]\n",
    "\n",
    "lines = [Line2D([0], [0], color=c, marker='.', markersize=20, linestyle='None') for c in colors]\n",
    "labels = ['Clock Drift', 'Normal']\n",
    "plt.legend(lines, labels,loc='upper left')\n",
    "\n",
    "plt.savefig('tele_lag_land.jpeg')\n",
    "plt.savefig('tele_lag_time.pdf')"
   ]
  },
  {
   "cell_type": "code",
   "execution_count": null,
   "id": "135ce9ee",
   "metadata": {},
   "outputs": [],
   "source": []
  }
 ],
 "metadata": {
  "kernelspec": {
   "display_name": "Python 3 (ipykernel)",
   "language": "python",
   "name": "python3"
  },
  "language_info": {
   "codemirror_mode": {
    "name": "ipython",
    "version": 3
   },
   "file_extension": ".py",
   "mimetype": "text/x-python",
   "name": "python",
   "nbconvert_exporter": "python",
   "pygments_lexer": "ipython3",
   "version": "3.7.7"
  },
  "toc": {
   "base_numbering": 1,
   "nav_menu": {},
   "number_sections": true,
   "sideBar": true,
   "skip_h1_title": false,
   "title_cell": "Table of Contents",
   "title_sidebar": "Contents",
   "toc_cell": false,
   "toc_position": {},
   "toc_section_display": true,
   "toc_window_display": false
  }
 },
 "nbformat": 4,
 "nbformat_minor": 5
}
